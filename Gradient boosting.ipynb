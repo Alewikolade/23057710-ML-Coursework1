{
 "cells": [
  {
   "cell_type": "markdown",
   "id": "8c1c66de-c42f-4b90-a373-166f3671b58c",
   "metadata": {},
   "source": [
    "## Importing Libraries\n",
    "This section imports all the required libraries for data manipulation, visualization, preprocessing, model training, and evaluation.\n",
    "\n"
   ]
  },
  {
   "cell_type": "code",
   "execution_count": 7,
   "id": "2625fb61-b43d-4eb5-934c-c3e58f6d5ee9",
   "metadata": {},
   "outputs": [],
   "source": [
    "import pandas as pd\n",
    "import numpy as np\n",
    "import matplotlib.pyplot as plt\n",
    "import seaborn as sns\n",
    "from sklearn.preprocessing import StandardScaler, OneHotEncoder\n",
    "from sklearn.compose import ColumnTransformer\n",
    "from sklearn.pipeline import Pipeline\n",
    "from sklearn.impute import SimpleImputer\n",
    "from sklearn.model_selection import train_test_split, GridSearchCV, cross_val_score, StratifiedKFold\n",
    "from sklearn.metrics import accuracy_score, precision_score, recall_score, f1_score, roc_auc_score, classification_report, confusion_matrix\n",
    "from imblearn.over_sampling import SMOTE\n",
    "from sklearn.ensemble import GradientBoostingClassifier\n"
   ]
  },
  {
   "cell_type": "code",
   "execution_count": null,
   "id": "e56b88fa-78c2-4310-a240-a657074234d8",
   "metadata": {},
   "outputs": [],
   "source": [
    "## "
   ]
  },
  {
   "cell_type": "code",
   "execution_count": 3,
   "id": "f5162c24-17d0-4747-9354-920814d0453f",
   "metadata": {},
   "outputs": [],
   "source": [
    "# Load the dataset\n",
    "url = r\"C:\\Users\\Sonymaths\\Downloads\\archive\\WA_Fn-UseC_-HR-Employee-Attrition.csv\"\n",
    "df = pd.read_csv(url)\n"
   ]
  },
  {
   "cell_type": "code",
   "execution_count": 4,
   "id": "4924aabe-0110-4fc6-9fd6-0862870fdf99",
   "metadata": {},
   "outputs": [
    {
     "name": "stderr",
     "output_type": "stream",
     "text": [
      "C:\\New folder\\Lib\\site-packages\\sklearn\\preprocessing\\_encoders.py:868: FutureWarning: `sparse` was renamed to `sparse_output` in version 1.2 and will be removed in 1.4. `sparse_output` is ignored unless you leave `sparse` to its default value.\n",
      "  warnings.warn(\n"
     ]
    }
   ],
   "source": [
    "\n",
    "# Define numerical and categorical columns\n",
    "numerical_cols = df.select_dtypes(include=[np.number]).columns.tolist()\n",
    "categorical_cols = df.select_dtypes(include=['object']).drop(columns=['Attrition']).columns.tolist()\n",
    "\n",
    "# Preprocessing pipeline for numerical data\n",
    "numerical_transformer = Pipeline(steps=[\n",
    "    ('imputer', SimpleImputer(strategy='median')),\n",
    "    ('scaler', StandardScaler())\n",
    "])\n",
    "\n",
    "# Preprocessing pipeline for categorical data\n",
    "categorical_transformer = Pipeline(steps=[\n",
    "    ('imputer', SimpleImputer(strategy='most_frequent')),\n",
    "    ('onehot', OneHotEncoder(drop='first', sparse=False))\n",
    "])\n",
    "\n",
    "# Combine preprocessing steps\n",
    "preprocessor = ColumnTransformer(\n",
    "    transformers=[\n",
    "        ('num', numerical_transformer, numerical_cols),\n",
    "        ('cat', categorical_transformer, categorical_cols)\n",
    "    ])\n",
    "\n",
    "# Apply the transformations\n",
    "X = df.drop(columns=['Attrition'])\n",
    "y = df['Attrition'].apply(lambda x: 1 if x == 'Yes' else 0)\n",
    "\n",
    "X_processed = preprocessor.fit_transform(X)\n",
    "\n",
    "# Split the data into training and test sets\n",
    "X_train, X_test, y_train, y_test = train_test_split(X_processed, y, test_size=0.2, random_state=42)\n",
    "\n",
    "# Address class imbalance using SMOTE\n",
    "smote = SMOTE(random_state=42)\n",
    "X_train_res, y_train_res = smote.fit_resample(X_train, y_train)\n",
    "   "
   ]
  },
  {
   "cell_type": "code",
   "execution_count": 8,
   "id": "c6409395-174e-4fa8-8384-3ab1321e17aa",
   "metadata": {},
   "outputs": [
    {
     "name": "stdout",
     "output_type": "stream",
     "text": [
      "Gradient Boosting Best Params: {'learning_rate': 0.5, 'max_depth': 7, 'n_estimators': 100}\n"
     ]
    }
   ],
   "source": [
    "# Define the Gradient Boosting model\n",
    "gbm = GradientBoostingClassifier(random_state=42)\n",
    "\n",
    "# Define the hyperparameter grid\n",
    "param_grid_gbm = {\n",
    "    'n_estimators': [50, 100, 200],\n",
    "    'learning_rate': [0.01, 0.1, 0.5, 1],\n",
    "    'max_depth': [3, 5, 7]\n",
    "}\n",
    "\n",
    "# Perform grid search with cross-validation\n",
    "strat_kfold = StratifiedKFold(n_splits=5, shuffle=True, random_state=42)\n",
    "grid_search_gbm = GridSearchCV(gbm, param_grid_gbm, cv=strat_kfold, scoring='f1', return_train_score=True)\n",
    "grid_search_gbm.fit(X_train_res, y_train_res)\n",
    "\n",
    "# Best Gradient Boosting model\n",
    "best_gbm = grid_search_gbm.best_estimator_\n",
    "print(f\"Gradient Boosting Best Params: {grid_search_gbm.best_params_}\")\n"
   ]
  },
  {
   "cell_type": "code",
   "execution_count": 9,
   "id": "4ba5db37-bf9f-47e1-8fc9-739b31a86a0b",
   "metadata": {},
   "outputs": [
    {
     "name": "stdout",
     "output_type": "stream",
     "text": [
      "Accuracy: 0.8844\n",
      "Precision: 0.6316\n",
      "Recall: 0.3077\n",
      "F1 Score: 0.4138\n",
      "ROC-AUC Score: 0.7733\n",
      "Classification Report:\n",
      "              precision    recall  f1-score   support\n",
      "\n",
      "           0       0.90      0.97      0.94       255\n",
      "           1       0.63      0.31      0.41        39\n",
      "\n",
      "    accuracy                           0.88       294\n",
      "   macro avg       0.77      0.64      0.67       294\n",
      "weighted avg       0.87      0.88      0.87       294\n",
      "\n",
      "Confusion Matrix:\n",
      "[[248   7]\n",
      " [ 27  12]]\n"
     ]
    }
   ],
   "source": [
    "# Evaluate the best Gradient Boosting model\n",
    "y_pred = best_gbm.predict(X_test)\n",
    "y_prob = best_gbm.predict_proba(X_test)[:, 1]\n",
    "\n",
    "accuracy = accuracy_score(y_test, y_pred)\n",
    "precision = precision_score(y_test, y_pred)\n",
    "recall = recall_score(y_test, y_pred)\n",
    "f1 = f1_score(y_test, y_pred)\n",
    "roc_auc = roc_auc_score(y_test, y_prob)\n",
    "\n",
    "print(f\"Accuracy: {accuracy:.4f}\")\n",
    "print(f\"Precision: {precision:.4f}\")\n",
    "print(f\"Recall: {recall:.4f}\")\n",
    "print(f\"F1 Score: {f1:.4f}\")\n",
    "print(f\"ROC-AUC Score: {roc_auc:.4f}\")\n",
    "\n",
    "# Display classification report and confusion matrix\n",
    "print(\"Classification Report:\")\n",
    "print(classification_report(y_test, y_pred))\n",
    "\n",
    "print(\"Confusion Matrix:\")\n",
    "print(confusion_matrix(y_test, y_pred))\n"
   ]
  },
  {
   "cell_type": "code",
   "execution_count": 10,
   "id": "b39f525e-8583-405c-88b6-cb0d85469bf4",
   "metadata": {},
   "outputs": [
    {
     "name": "stdout",
     "output_type": "stream",
     "text": [
      "Cross-Validation F1 Scores: [0.92105263 0.93085106 0.92513369 0.93472585 0.96124031]\n",
      "Mean CV F1 Score: 0.9346\n",
      "Standard Deviation of CV F1 Scores: 0.0141\n"
     ]
    }
   ],
   "source": [
    "# Cross-validation scores\n",
    "cv_results = cross_val_score(best_gbm, X_train_res, y_train_res, cv=strat_kfold, scoring='f1')\n",
    "\n",
    "print(f\"Cross-Validation F1 Scores: {cv_results}\")\n",
    "print(f\"Mean CV F1 Score: {cv_results.mean():.4f}\")\n",
    "print(f\"Standard Deviation of CV F1 Scores: {cv_results.std():.4f}\")\n"
   ]
  },
  {
   "cell_type": "code",
   "execution_count": 11,
   "id": "2d01e7fc-1ac3-493e-bffa-77720a0e7530",
   "metadata": {},
   "outputs": [
    {
     "name": "stdout",
     "output_type": "stream",
     "text": [
      "\n",
      "Top 10 Features:\n",
      "                             Feature  Importance\n",
      "46                      OverTime_Yes    0.338516\n",
      "9                           JobLevel    0.092656\n",
      "18                  StockOptionLevel    0.065285\n",
      "45              MaritalStatus_Single    0.043539\n",
      "5                     EmployeeNumber    0.038504\n",
      "10                   JobSatisfaction    0.030120\n",
      "26  BusinessTravel_Travel_Frequently    0.027699\n",
      "8                     JobInvolvement    0.027532\n",
      "2                   DistanceFromHome    0.026133\n",
      "42           JobRole_Sales Executive    0.025509\n"
     ]
    }
   ],
   "source": [
    "# Get feature names after preprocessing\n",
    "num_features = numerical_cols\n",
    "cat_features = preprocessor.transformers_[1][1].named_steps['onehot'].get_feature_names_out(categorical_cols)\n",
    "all_feature_names = np.concatenate([num_features, cat_features])\n",
    "\n",
    "# Get feature importances from the Gradient Boosting model\n",
    "feature_importances = best_gbm.feature_importances_\n",
    "\n",
    "# Create a DataFrame for feature importances\n",
    "feat_importance_df = pd.DataFrame({\n",
    "    'Feature': all_feature_names,\n",
    "    'Importance': feature_importances\n",
    "})\n",
    "\n",
    "# Sort by importance\n",
    "feat_importance_df = feat_importance_df.sort_values(by='Importance', ascending=False)\n",
    "\n",
    "# Display the top 10 features\n",
    "print(\"\\nTop 10 Features:\")\n",
    "print(feat_importance_df.head(10))\n"
   ]
  },
  {
   "cell_type": "code",
   "execution_count": 12,
   "id": "594ec7f5-8436-4f66-a374-4a2f5943b952",
   "metadata": {},
   "outputs": [
    {
     "data": {
      "image/png": "[encoded data removed]",
      "text/plain": [
       "<Figure size 1000x800 with 1 Axes>"
      ]
     },
     "metadata": {},
     "output_type": "display_data"
    }
   ],
   "source": [
    "# Plot feature importances\n",
    "plt.figure(figsize=(10, 8))\n",
    "sns.barplot(x='Importance', y='Feature', data=feat_importance_df.head(10))\n",
    "plt.title('Top 10 Important Features')\n",
    "plt.show()\n"
   ]
  },
  {
   "cell_type": "code",
   "execution_count": null,
   "id": "dd94270b-f7f3-4a5d-9ac4-4edb87bbd781",
   "metadata": {},
   "outputs": [],
   "source": []
  }
 ],
 "metadata": {
  "kernelspec": {
   "display_name": "Python 3 (ipykernel)",
   "language": "python",
   "name": "python3"
  },
  "language_info": {
   "codemirror_mode": {
    "name": "ipython",
    "version": 3
   },
   "file_extension": ".py",
   "mimetype": "text/x-python",
   "name": "python",
   "nbconvert_exporter": "python",
   "pygments_lexer": "ipython3",
   "version": "3.11.7"
  }
 },
 "nbformat": 4,
 "nbformat_minor": 5
}
